{
 "cells": [
  {
   "cell_type": "markdown",
   "metadata": {},
   "source": [
    "---\n",
    "toc: true\n",
    "comments: true\n",
    "layout: post\n",
    "title: Summary\n",
    "description: Trimester summary\n",
    "type: hacks\n",
    "courses: { compsci: {week: 7} }\n",
    "---"
   ]
  },
  {
   "cell_type": "markdown",
   "metadata": {},
   "source": [
    "# Accomplished\n",
    "\n",
    "- Profficient in python\n",
    "- Already at a stable ground for collegeboard mcq\n",
    "- Fluent in backend\n",
    "- Fluent in network diagrams\n",
    "- Fluent in 4 languages\n",
    "\n",
    "# Golas for next tri\n",
    "\n",
    "- Learn more frontend\n",
    "- Work on missed MCQs\n",
    "- Nex tri is algorithmic coding, so it should be easy for me."
   ]
  }
 ],
 "metadata": {
  "language_info": {
   "name": "python"
  }
 },
 "nbformat": 4,
 "nbformat_minor": 2
}
