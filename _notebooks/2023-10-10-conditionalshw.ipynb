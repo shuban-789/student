{
 "cells": [
  {
   "cell_type": "markdown",
   "metadata": {},
   "source": [
    "---\n",
    "toc: true\n",
    "comments: false\n",
    "layout: post\n",
    "title: Data Types HW\n",
    "description: Student Teach HW\n",
    "type: hacks\n",
    "courses: { compsci: {week: 7} }\n",
    "---"
   ]
  },
  {
   "cell_type": "code",
   "execution_count": null,
   "metadata": {
    "vscode": {
     "languageId": "plaintext"
    }
   },
   "outputs": [],
   "source": [
    "# Problem 1\n",
    "def vote(age):\n",
    "  if age >= 18:\n",
    "    print(\"You can vote\")\n",
    "  else:\n",
    "    print(\"You can't vote\")\n",
    "\n",
    "# Problem 2\n",
    "def bonus(salary,service):\n",
    "  if service > 5:\n",
    "    bonus = salary * 0.05\n",
    "    print(salary + bonus)\n",
    "  else:\n",
    "    print(\"No bonus for you\")\n",
    "\n",
    "# Problem 3\n",
    "def grade(score):\n",
    "  if score >= 90:\n",
    "    print(\"A\")\n",
    "  elif score >= 80:\n",
    "    print(\"B\")\n",
    "  elif score >= 70:\n",
    "    print(\"C\")\n",
    "  elif score >= 60:\n",
    "    print(\"D\")\n",
    "  else:\n",
    "    print(\"F\")\n",
    "\n",
    "vote(19)\n",
    "bonus(100000,6)\n",
    "grade(95)"
   ]
  }
 ],
 "metadata": {
  "language_info": {
   "name": "python"
  }
 },
 "nbformat": 4,
 "nbformat_minor": 2
}
