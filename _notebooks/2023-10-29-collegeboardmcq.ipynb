{
 "cells": [
  {
   "cell_type": "markdown",
   "metadata": {},
   "source": [
    "---\n",
    "toc: true\n",
    "comments: false\n",
    "layout: post\n",
    "title: Collegeboard MCQ - A reflection\n",
    "description: Reflection for Collegeboard MCQ\n",
    "type: hacks\n",
    "courses: { compsci: {week: 7} }\n",
    "---"
   ]
  },
  {
   "cell_type": "markdown",
   "metadata": {},
   "source": [
    "# Topics discussed\n",
    "\n",
    "- My score on the Collegeboard MCQ\n",
    "- Why I got this score\n",
    "- The types of questions missed\n",
    "- Work I can put\n",
    "\n",
    "# Analysis of performance\n",
    "\n",
    "- I answered 48/66 correct WITHOUT google\n",
    "- This should translate to a score of 4 or 5 (not sure, this info was googled)\n",
    "\n",
    "# Types of questions I missed\n",
    "\n",
    "- The \"I and II, Only I, or Only II\" question\n",
    "- Question about digital citizenship\n",
    "- Questions about network infastructure\n",
    "\n",
    "# Digital Citizenship and Network infastructure\n",
    "\n",
    "e.g. a question about what a certain internet taskforce could be called\n",
    "\n",
    "How I will be addressing this: Courses about topics like digital citizenship, and other internet related vocabulary. Even if this is not exactly coding, it is important\n",
    "\n",
    "# I and II questions\n",
    "\n",
    "Based on just normal MCQ strategies\n",
    "\n",
    "# What I am proud of\n",
    "\n",
    "I am extremely proud of how I handled questions related to \"what does this program do\" and topics like cryptography. It really made me think like all my work payed off\n",
    "\n",
    "# How did I get to my profficiency in Cryptography MCQs?\n",
    "\n",
    "As you can recall, my passion project itself was cryptography based. I was the main brains behind the cryptographic algorithms and coded each one form scratch to give me knowledge in cryptography and how messages can be encrypted and decrypted\n",
    "\n",
    "# How did I get to my profficienct in Code MCQs?\n",
    "\n",
    "I grinded alot of USACO and algorithmic programs. Algorithms is basically what I specialize in coding now and the reason I am able to learn so many languages so fast\n",
    "\n",
    "# USACO practice example for the MCQ\n",
    "\n",
    "Here is an example for a USACO problem:\n",
    "\n",
    "There are N\n",
    " (1≤N≤105) cows who could potentially attend this university. Each cow is willing to pay a maximum tuition of ci\n",
    " (1≤ci≤106). Farmer John can set the tuition that all cows must pay to enroll. If this tuition is greater than the maximum a cow is willing to pay, then the cow will not attend the university. Farmer John wants to make the most possible money so he can pay his instructors a fair wage. Please determine how much money he can make, and how much tuition he should charge.\n",
    "\n",
    "INPUT FORMAT (input arrives from the terminal / stdin):\n",
    "The first line contains N\n",
    ". The second line contains N\n",
    " integers c1,c2,…,cN\n",
    ", where ci\n",
    " is the maximum tuition cow i\n",
    " is willing to pay.\n",
    "OUTPUT FORMAT (print output to the terminal / stdout):\n",
    "Please output the maximum amount of money Farmer John can make and the optimal tuition he should charge. If there are multiple solutions, output the solution with the smallest optimal tuition.\n",
    "Note that the large size of integers involved in this problem may require the use of 64-bit integer data types (e.g., a \"long\" in Java, a \"long long\" in C/C++).\n",
    "\n",
    "SAMPLE INPUT:\n",
    "4\n",
    "1 6 4 6"
   ]
  },
  {
   "cell_type": "code",
   "execution_count": null,
   "metadata": {
    "vscode": {
     "languageId": "plaintext"
    }
   },
   "outputs": [],
   "source": [
    "import math\n",
    "\n",
    "n = int(input())\n",
    "tuitions = list(map(int, input().split()))\n",
    "tuitions.sort()  # Sort the tuitions in ascending order\n",
    "\n",
    "max_earnings = 0\n",
    "optimal_tuition = tuitions[0]\n",
    "current_earnings = 0\n",
    "\n",
    "for i in range(n):\n",
    "    current_earnings = tuitions[i] * (n - i)\n",
    "    if current_earnings > max_earnings:\n",
    "        max_earnings = current_earnings\n",
    "        optimal_tuition = tuitions[i]\n",
    "\n",
    "print(max_earnings, optimal_tuition)\n"
   ]
  },
  {
   "cell_type": "markdown",
   "metadata": {},
   "source": [
    "# Plans for the future\n",
    "\n",
    "- USACO problems are really difficult. Really overkill as well. So for the coding MC I feel like common sense is enough. But this is good practice I think"
   ]
  }
 ],
 "metadata": {
  "language_info": {
   "name": "python"
  }
 },
 "nbformat": 4,
 "nbformat_minor": 2
}
